{
  "cells": [
    {
      "cell_type": "code",
      "execution_count": 26,
      "id": "5cccc405",
      "metadata": {},
      "outputs": [
        {
          "name": "stdout",
          "output_type": "stream",
          "text": [
            "Requirement already satisfied: pandas in c:\\users\\usuario\\anaconda3\\lib\\site-packages (2.2.2)\n",
            "Requirement already satisfied: numpy>=1.23.2 in c:\\users\\usuario\\anaconda3\\lib\\site-packages (from pandas) (2.0.1)\n",
            "Requirement already satisfied: python-dateutil>=2.8.2 in c:\\users\\usuario\\anaconda3\\lib\\site-packages (from pandas) (2.8.2)\n",
            "Requirement already satisfied: pytz>=2020.1 in c:\\users\\usuario\\anaconda3\\lib\\site-packages (from pandas) (2023.3.post1)\n",
            "Requirement already satisfied: tzdata>=2022.7 in c:\\users\\usuario\\anaconda3\\lib\\site-packages (from pandas) (2024.1)\n",
            "Requirement already satisfied: six>=1.5 in c:\\users\\usuario\\anaconda3\\lib\\site-packages (from python-dateutil>=2.8.2->pandas) (1.16.0)\n",
            "Requirement already satisfied: numpy in c:\\users\\usuario\\anaconda3\\lib\\site-packages (2.0.1)\n",
            "Requirement already satisfied: matplotlib in c:\\users\\usuario\\anaconda3\\lib\\site-packages (3.9.0)\n",
            "Requirement already satisfied: contourpy>=1.0.1 in c:\\users\\usuario\\anaconda3\\lib\\site-packages (from matplotlib) (1.2.1)\n",
            "Requirement already satisfied: cycler>=0.10 in c:\\users\\usuario\\anaconda3\\lib\\site-packages (from matplotlib) (0.12.1)\n",
            "Requirement already satisfied: fonttools>=4.22.0 in c:\\users\\usuario\\anaconda3\\lib\\site-packages (from matplotlib) (4.53.1)\n",
            "Requirement already satisfied: kiwisolver>=1.3.1 in c:\\users\\usuario\\anaconda3\\lib\\site-packages (from matplotlib) (1.4.5)\n",
            "Requirement already satisfied: numpy>=1.23 in c:\\users\\usuario\\anaconda3\\lib\\site-packages (from matplotlib) (2.0.1)\n",
            "Requirement already satisfied: packaging>=20.0 in c:\\users\\usuario\\anaconda3\\lib\\site-packages (from matplotlib) (23.1)\n",
            "Requirement already satisfied: pillow>=8 in c:\\users\\usuario\\anaconda3\\lib\\site-packages (from matplotlib) (10.0.1)\n",
            "Requirement already satisfied: pyparsing>=2.3.1 in c:\\users\\usuario\\anaconda3\\lib\\site-packages (from matplotlib) (3.1.2)\n",
            "Requirement already satisfied: python-dateutil>=2.7 in c:\\users\\usuario\\anaconda3\\lib\\site-packages (from matplotlib) (2.8.2)\n",
            "Requirement already satisfied: six>=1.5 in c:\\users\\usuario\\anaconda3\\lib\\site-packages (from python-dateutil>=2.7->matplotlib) (1.16.0)\n",
            "Requirement already satisfied: hl7 in c:\\users\\usuario\\anaconda3\\lib\\site-packages (0.4.5)\n"
          ]
        }
      ],
      "source": [
        "! pip install pandas\n",
        "! pip install numpy\n",
        "! pip install matplotlib\n",
        "! pip install hl7\n"
      ]
    },
    {
      "cell_type": "code",
      "execution_count": 3,
      "id": "GJksUSaUsYr4",
      "metadata": {
        "id": "GJksUSaUsYr4"
      },
      "outputs": [],
      "source": [
        "import pandas as pd\n",
        "import numpy as np\n",
        "import matplotlib.pyplot as plt     "
      ]
    },
    {
      "cell_type": "code",
      "execution_count": null,
      "id": "22b6a238",
      "metadata": {},
      "outputs": [
        {
          "name": "stdout",
          "output_type": "stream",
          "text": [
            "Index(['date', 'device', 'model', 'serial', 'responsible', 'profession', 'ips',\n",
            "       'id', 'Pname', 'Plastname', 'gender', 'age', 'test', 'physician',\n",
            "       'specialty', 'admission', 'dx', 'Comorbilidades'],\n",
            "      dtype='object')\n",
            "<class 'pandas.core.frame.DataFrame'>\n",
            "RangeIndex: 1 entries, 0 to 0\n",
            "Data columns (total 18 columns):\n",
            " #   Column          Non-Null Count  Dtype         \n",
            "---  ------          --------------  -----         \n",
            " 0   date            1 non-null      datetime64[ns]\n",
            " 1   device          1 non-null      object        \n",
            " 2   model           1 non-null      object        \n",
            " 3   serial          1 non-null      object        \n",
            " 4   responsible     1 non-null      object        \n",
            " 5   profession      1 non-null      object        \n",
            " 6   ips             1 non-null      object        \n",
            " 7   id              1 non-null      int64         \n",
            " 8   Pname           1 non-null      object        \n",
            " 9   Plastname       1 non-null      object        \n",
            " 10  gender          1 non-null      object        \n",
            " 11  age             1 non-null      int64         \n",
            " 12  test            1 non-null      object        \n",
            " 13  physician       1 non-null      object        \n",
            " 14  specialty       1 non-null      object        \n",
            " 15  admission       1 non-null      object        \n",
            " 16  dx              1 non-null      object        \n",
            " 17  Comorbilidades  1 non-null      object        \n",
            "dtypes: datetime64[ns](1), int64(2), object(15)\n",
            "memory usage: 276.0+ bytes\n",
            "None\n",
            "0   1976-06-01 18:37:51.910\n",
            "Name: date, dtype: datetime64[ns]\n"
          ]
        }
      ],
      "source": [
        "data_json = pd.read_json('Práctica#1\\paciente1.json')\n",
        "data_json.columns = data_json.columns.str.strip()\n",
        "print(data_json.columns)\n",
        "print(data_json.info())\n",
        "print(data_json['age'])"
      ]
    },
    {
      "cell_type": "code",
      "execution_count": 18,
      "id": "571f0a0d",
      "metadata": {},
      "outputs": [
        {
          "name": "stdout",
          "output_type": "stream",
          "text": [
            "Index(['date', 'device', 'model', 'serial', 'responsible', 'profession', 'ips',\n",
            "       'id', 'name', 'lastname', 'gender', 'age', 'test_tp', 'test_ptt',\n",
            "       'test_fib', 'physician', 'specialty', 'admission', 'dx_ppal', 'dx2',\n",
            "       'dx3', 'dx4', 'dx5'],\n",
            "      dtype='object')\n",
            "<class 'pandas.core.frame.DataFrame'>\n",
            "RangeIndex: 1 entries, 0 to 0\n",
            "Data columns (total 23 columns):\n",
            " #   Column       Non-Null Count  Dtype  \n",
            "---  ------       --------------  -----  \n",
            " 0   date         1 non-null      int64  \n",
            " 1   device       1 non-null      object \n",
            " 2   model        1 non-null      object \n",
            " 3   serial       1 non-null      object \n",
            " 4   responsible  1 non-null      object \n",
            " 5   profession   1 non-null      object \n",
            " 6   ips          1 non-null      object \n",
            " 7   id           1 non-null      int64  \n",
            " 8   name         1 non-null      object \n",
            " 9   lastname     1 non-null      object \n",
            " 10  gender       1 non-null      object \n",
            " 11  age          1 non-null      int64  \n",
            " 12  test_tp      1 non-null      object \n",
            " 13  test_ptt     1 non-null      object \n",
            " 14  test_fib     1 non-null      int64  \n",
            " 15  physician    1 non-null      object \n",
            " 16  specialty    1 non-null      object \n",
            " 17  admission    1 non-null      object \n",
            " 18  dx_ppal      1 non-null      object \n",
            " 19  dx2          0 non-null      float64\n",
            " 20  dx3          0 non-null      float64\n",
            " 21  dx4          0 non-null      float64\n",
            " 22  dx5          0 non-null      float64\n",
            "dtypes: float64(4), int64(4), object(15)\n",
            "memory usage: 316.0+ bytes\n",
            "None\n"
          ]
        }
      ],
      "source": [
        "data_csv = pd.read_csv('Práctica#1\\paciente2.csv',delimiter=';')\n",
        "data_csv.columns = data_csv.columns.str.strip()\n",
        "\n",
        "print(data_csv.columns)\n",
        "print(data_csv.info())"
      ]
    },
    {
      "cell_type": "code",
      "execution_count": 43,
      "id": "3e6490c4",
      "metadata": {},
      "outputs": [
        {
          "name": "stdout",
          "output_type": "stream",
          "text": [
            "['1H|\\\\^&|||D10^01^3.00|||||||||20250129133654\\n', '07\\n', '2P|1\\n', '3F\\n', '3O|1|70065456|1311159-02-015-20240119-01|^^^43||||||||Juan Andrés|Sepúlveda Ramos||||||||||||||M\\n', 'EA\\n', '4R|1|^^^A1b^AREA|3.7|||||||||20250129133654\\n', '62\\n', '5R|2|^^^A1b^TIME|0.25|||||||||20250129133654\\n', 'A7\\n', '6R|3|^^^F^AREA|9.8|||||||||20250129133654\\n', 'DF\\n', '7R|4|^^^F^TIME|0.56|||||||||20250129133654\\n', '21\\n', '0R|5|^^^A1c^AREA|5.9|||||||||20250129133654\\n', '67\\n', '1R|6|^^^A1c^TIME|0.88|||||||||20250129133654\\n', 'B1\\n', '2R|7|^^^P3^AREA|4.1|||||||||20250129133654\\n', '10\\n', '3R|8|^^^P3^TIME|1.37|||||||||20250129133654\\n', '5E\\n', '4R|9|^^^A0^AREA|53.6|||||||||20250129133654\\n', '3B\\n', '5R|10|^^^A0^TIME|1.45|||||||||20250129133654\\n', '76\\n', '6R|11|^^^S-Window^AREA|26.2|||||||||20250129133654\\n', 'E9\\n', '7R|12|^^^S-Window^TIME|1.65|||||||||20250129133654\\n', '03\\n', '0R|13|^^^TOTAL^AREA|2587336|||||||||20250129133654\\n', '1B\\n', '1L|1|N\\n', '04\\n']\n",
            "{'70065456': {'nombre': 'Juan Andrés Sepúlveda Ramos', 'id': '70065456', 'fecha': 'año:2025 mes 12 dia 29 hora 13:36:54', 'MEDICIONES': {'A1b': '3.7', 'F': '9.8', 'A1c': '5.9', 'P3': '4.1', 'A0': '53.6', 'S-Window': '26.2', 'TOTAL': '2587336'}, 'TIEMPOS': {'A1b': '0.25', 'F': '0.56', 'A1c': '0.88', 'P3': '1.37', 'A0': '1.45', 'S-Window': '1.65'}}}\n"
          ]
        }
      ],
      "source": [
        "file = open('Práctica#1\\paciente3.txt' , encoding='utf-8')\n",
        "content = file.readlines()\n",
        "print(content)\n",
        "pacientes = {}\n",
        "areas, times = {}, {}  # Resetear áreas y tiempos para cada archivo\n",
        "ombre_completo, id, fecha = \"\", \"\", \"\"\n",
        "for line in content:\n",
        "    parts = line.split('|')\n",
        "\n",
        "    if '3O' in line:\n",
        "        nombre_completo = \" \".join(parts[12:14])\n",
        "        id = parts[2]\n",
        "\n",
        "    elif 'AREA' in line:\n",
        "        codigo = parts[2].split('^')[3]\n",
        "        areas[codigo] = parts[3]\n",
        "        fecha = parts[12].strip()\n",
        "\n",
        "    elif 'TIME' in line:\n",
        "        codigo = parts[2].split('^')[3]\n",
        "        times[codigo] = parts[3]\n",
        "        \n",
        "if id:  # Asegura que no se guarden datos vacíos\n",
        "    pacientes[id] = {\n",
        "    'nombre': nombre_completo,\n",
        "    'id': id,\n",
        "    'fecha': f\"año:{fecha[:4]} mes {fecha[5:7]} dia {fecha[6:8]} hora {fecha[8:10]}:{fecha[10:12]}:{fecha[12:]}\",\n",
        "    'MEDICIONES': areas,\n",
        "    'TIEMPOS': times\n",
        "}\n",
        "print(pacientes)"
      ]
    },
    {
      "cell_type": "code",
      "execution_count": null,
      "id": "d3492279",
      "metadata": {},
      "outputs": [
        {
          "ename": "ParseException",
          "evalue": "First segment is 1H|, must be one of MHS, FHS or BHS",
          "output_type": "error",
          "traceback": [
            "\u001b[1;31m---------------------------------------------------------------------------\u001b[0m",
            "\u001b[1;31mParseException\u001b[0m                            Traceback (most recent call last)",
            "Cell \u001b[1;32mIn[37], line 2\u001b[0m\n\u001b[0;32m      1\u001b[0m \u001b[38;5;28;01mimport\u001b[39;00m \u001b[38;5;21;01mhl7\u001b[39;00m\n\u001b[1;32m----> 2\u001b[0m hl7_data \u001b[38;5;241m=\u001b[39m hl7\u001b[38;5;241m.\u001b[39mparse(content[\u001b[38;5;241m0\u001b[39m])\n",
            "File \u001b[1;32mc:\\Users\\USUARIO\\anaconda3\\Lib\\site-packages\\hl7\\parser.py:98\u001b[0m, in \u001b[0;36mparse\u001b[1;34m(lines, encoding, factory)\u001b[0m\n\u001b[0;32m     96\u001b[0m strmsg \u001b[38;5;241m=\u001b[39m lines\u001b[38;5;241m.\u001b[39mstrip()\n\u001b[0;32m     97\u001b[0m \u001b[38;5;66;03m# The method for parsing the message\u001b[39;00m\n\u001b[1;32m---> 98\u001b[0m plan \u001b[38;5;241m=\u001b[39m create_parse_plan(strmsg, factory)\n\u001b[0;32m     99\u001b[0m \u001b[38;5;66;03m# Start splitting the methods based upon the ParsePlan\u001b[39;00m\n\u001b[0;32m    100\u001b[0m \u001b[38;5;28;01mreturn\u001b[39;00m _split(strmsg, plan)\n",
            "File \u001b[1;32mc:\\Users\\USUARIO\\anaconda3\\Lib\\site-packages\\hl7\\parser.py:348\u001b[0m, in \u001b[0;36mcreate_parse_plan\u001b[1;34m(strmsg, factory)\u001b[0m\n\u001b[0;32m    346\u001b[0m \u001b[38;5;66;03m# Extract the rest of the separators. Defaults used if not present.\u001b[39;00m\n\u001b[0;32m    347\u001b[0m \u001b[38;5;28;01mif\u001b[39;00m strmsg[:\u001b[38;5;241m3\u001b[39m] \u001b[38;5;129;01mnot\u001b[39;00m \u001b[38;5;129;01min\u001b[39;00m (\u001b[38;5;124m\"\u001b[39m\u001b[38;5;124mMSH\u001b[39m\u001b[38;5;124m\"\u001b[39m, \u001b[38;5;124m\"\u001b[39m\u001b[38;5;124mFHS\u001b[39m\u001b[38;5;124m\"\u001b[39m, \u001b[38;5;124m\"\u001b[39m\u001b[38;5;124mBHS\u001b[39m\u001b[38;5;124m\"\u001b[39m):\n\u001b[1;32m--> 348\u001b[0m     \u001b[38;5;28;01mraise\u001b[39;00m ParseException(\n\u001b[0;32m    349\u001b[0m         \u001b[38;5;124m\"\u001b[39m\u001b[38;5;124mFirst segment is \u001b[39m\u001b[38;5;132;01m{}\u001b[39;00m\u001b[38;5;124m, must be one of MHS, FHS or BHS\u001b[39m\u001b[38;5;124m\"\u001b[39m\u001b[38;5;241m.\u001b[39mformat(strmsg[:\u001b[38;5;241m3\u001b[39m])\n\u001b[0;32m    350\u001b[0m     )\n\u001b[0;32m    351\u001b[0m sep0 \u001b[38;5;241m=\u001b[39m strmsg[\u001b[38;5;241m3\u001b[39m]\n\u001b[0;32m    352\u001b[0m seps \u001b[38;5;241m=\u001b[39m \u001b[38;5;28mlist\u001b[39m(strmsg[\u001b[38;5;241m3\u001b[39m : strmsg\u001b[38;5;241m.\u001b[39mfind(sep0, \u001b[38;5;241m4\u001b[39m)])\n",
            "\u001b[1;31mParseException\u001b[0m: First segment is 1H|, must be one of MHS, FHS or BHS"
          ]
        }
      ],
      "source": []
    }
  ],
  "metadata": {
    "colab": {
      "provenance": []
    },
    "kernelspec": {
      "display_name": "base",
      "language": "python",
      "name": "python3"
    },
    "language_info": {
      "codemirror_mode": {
        "name": "ipython",
        "version": 3
      },
      "file_extension": ".py",
      "mimetype": "text/x-python",
      "name": "python",
      "nbconvert_exporter": "python",
      "pygments_lexer": "ipython3",
      "version": "3.11.5"
    }
  },
  "nbformat": 4,
  "nbformat_minor": 5
}

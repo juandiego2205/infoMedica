{
  "cells": [
    {
      "cell_type": "code",
      "execution_count": 1,
      "id": "d4613908",
      "metadata": {
        "colab": {
          "base_uri": "https://localhost:8080/"
        },
        "id": "d4613908",
        "outputId": "50dc0a16-3bdc-4ac1-9851-c84b51c1e201"
      },
      "outputs": [
        {
          "name": "stdout",
          "output_type": "stream",
          "text": [
            "hola como eatas\n"
          ]
        }
      ],
      "source": [
        "print('hola como eatas')"
      ]
    },
    {
      "cell_type": "code",
      "execution_count": 2,
      "id": "5cccc405",
      "metadata": {},
      "outputs": [
        {
          "name": "stdout",
          "output_type": "stream",
          "text": [
            "Requirement already satisfied: pandas in c:\\users\\usuario\\anaconda3\\lib\\site-packages (2.2.2)\n",
            "Requirement already satisfied: numpy>=1.23.2 in c:\\users\\usuario\\anaconda3\\lib\\site-packages (from pandas) (2.0.1)\n",
            "Requirement already satisfied: python-dateutil>=2.8.2 in c:\\users\\usuario\\anaconda3\\lib\\site-packages (from pandas) (2.8.2)\n",
            "Requirement already satisfied: pytz>=2020.1 in c:\\users\\usuario\\anaconda3\\lib\\site-packages (from pandas) (2023.3.post1)\n",
            "Requirement already satisfied: tzdata>=2022.7 in c:\\users\\usuario\\anaconda3\\lib\\site-packages (from pandas) (2024.1)\n",
            "Requirement already satisfied: six>=1.5 in c:\\users\\usuario\\anaconda3\\lib\\site-packages (from python-dateutil>=2.8.2->pandas) (1.16.0)\n",
            "Requirement already satisfied: numpy in c:\\users\\usuario\\anaconda3\\lib\\site-packages (2.0.1)\n",
            "Requirement already satisfied: matplotlib in c:\\users\\usuario\\anaconda3\\lib\\site-packages (3.9.0)\n",
            "Requirement already satisfied: contourpy>=1.0.1 in c:\\users\\usuario\\anaconda3\\lib\\site-packages (from matplotlib) (1.2.1)\n",
            "Requirement already satisfied: cycler>=0.10 in c:\\users\\usuario\\anaconda3\\lib\\site-packages (from matplotlib) (0.12.1)\n",
            "Requirement already satisfied: fonttools>=4.22.0 in c:\\users\\usuario\\anaconda3\\lib\\site-packages (from matplotlib) (4.53.1)\n",
            "Requirement already satisfied: kiwisolver>=1.3.1 in c:\\users\\usuario\\anaconda3\\lib\\site-packages (from matplotlib) (1.4.5)\n",
            "Requirement already satisfied: numpy>=1.23 in c:\\users\\usuario\\anaconda3\\lib\\site-packages (from matplotlib) (2.0.1)\n",
            "Requirement already satisfied: packaging>=20.0 in c:\\users\\usuario\\anaconda3\\lib\\site-packages (from matplotlib) (23.1)\n",
            "Requirement already satisfied: pillow>=8 in c:\\users\\usuario\\anaconda3\\lib\\site-packages (from matplotlib) (10.0.1)\n",
            "Requirement already satisfied: pyparsing>=2.3.1 in c:\\users\\usuario\\anaconda3\\lib\\site-packages (from matplotlib) (3.1.2)\n",
            "Requirement already satisfied: python-dateutil>=2.7 in c:\\users\\usuario\\anaconda3\\lib\\site-packages (from matplotlib) (2.8.2)\n",
            "Requirement already satisfied: six>=1.5 in c:\\users\\usuario\\anaconda3\\lib\\site-packages (from python-dateutil>=2.7->matplotlib) (1.16.0)\n"
          ]
        }
      ],
      "source": [
        "! pip install pandas\n",
        "! pip install numpy\n",
        "! pip install matplotlib"
      ]
    },
    {
      "cell_type": "code",
      "execution_count": 3,
      "id": "GJksUSaUsYr4",
      "metadata": {
        "id": "GJksUSaUsYr4"
      },
      "outputs": [],
      "source": [
        "import pandas as pd\n",
        "import numpy as np\n",
        "import matplotlib.pyplot as plt     "
      ]
    },
    {
      "cell_type": "code",
      "execution_count": null,
      "id": "571f0a0d",
      "metadata": {},
      "outputs": [
        {
          "name": "stdout",
          "output_type": "stream",
          "text": [
            "Index(['date', 'device', 'model', 'serial', 'responsible', 'profession', 'ips',\n",
            "       'id', 'name', 'lastname', 'gender', 'age', 'test_tp', 'test_ptt',\n",
            "       'test_fib', 'physician', 'specialty', 'admission', 'dx_ppal', 'dx2',\n",
            "       'dx3', 'dx4', 'dx5'],\n",
            "      dtype='object')\n",
            "<class 'pandas.core.frame.DataFrame'>\n",
            "RangeIndex: 1 entries, 0 to 0\n",
            "Data columns (total 23 columns):\n",
            " #   Column       Non-Null Count  Dtype  \n",
            "---  ------       --------------  -----  \n",
            " 0   date         1 non-null      int64  \n",
            " 1   device       1 non-null      object \n",
            " 2   model        1 non-null      object \n",
            " 3   serial       1 non-null      object \n",
            " 4   responsible  1 non-null      object \n",
            " 5   profession   1 non-null      object \n",
            " 6   ips          1 non-null      object \n",
            " 7   id           1 non-null      int64  \n",
            " 8   name         1 non-null      object \n",
            " 9   lastname     1 non-null      object \n",
            " 10  gender       1 non-null      object \n",
            " 11  age          1 non-null      int64  \n",
            " 12  test_tp      1 non-null      object \n",
            " 13  test_ptt     1 non-null      object \n",
            " 14  test_fib     1 non-null      int64  \n",
            " 15  physician    1 non-null      object \n",
            " 16  specialty    1 non-null      object \n",
            " 17  admission    1 non-null      object \n",
            " 18  dx_ppal      1 non-null      object \n",
            " 19  dx2          0 non-null      float64\n",
            " 20  dx3          0 non-null      float64\n",
            " 21  dx4          0 non-null      float64\n",
            " 22  dx5          0 non-null      float64\n",
            "dtypes: float64(4), int64(4), object(15)\n",
            "memory usage: 316.0+ bytes\n",
            "None\n"
          ]
        }
      ],
      "source": [
        "df = pd.read_csv('Práctica#1\\paciente2.csv',delimiter=';')\n",
        "df.columns = df.columns.str.strip()\n",
        "\n",
        "print(df.columns)\n",
        "print(df.info())"
      ]
    },
    {
      "cell_type": "code",
      "execution_count": null,
      "id": "b4b3439c",
      "metadata": {},
      "outputs": [],
      "source": []
    }
  ],
  "metadata": {
    "colab": {
      "provenance": []
    },
    "kernelspec": {
      "display_name": "base",
      "language": "python",
      "name": "python3"
    },
    "language_info": {
      "codemirror_mode": {
        "name": "ipython",
        "version": 3
      },
      "file_extension": ".py",
      "mimetype": "text/x-python",
      "name": "python",
      "nbconvert_exporter": "python",
      "pygments_lexer": "ipython3",
      "version": "3.11.5"
    }
  },
  "nbformat": 4,
  "nbformat_minor": 5
}

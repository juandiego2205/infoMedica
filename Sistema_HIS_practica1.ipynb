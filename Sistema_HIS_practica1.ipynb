{
  "cells": [
    {
      "cell_type": "code",
      "execution_count": null,
      "id": "d4613908",
      "metadata": {
        "colab": {
          "base_uri": "https://localhost:8080/"
        },
        "id": "d4613908",
        "outputId": "50dc0a16-3bdc-4ac1-9851-c84b51c1e201"
      },
      "outputs": [
        {
          "name": "stdout",
          "output_type": "stream",
          "text": [
            "hola\n"
          ]
        }
      ],
      "source": [
        "print('hola como eatas')"
      ]
    },
    {
      "cell_type": "code",
      "execution_count": null,
      "id": "GJksUSaUsYr4",
      "metadata": {
        "id": "GJksUSaUsYr4"
      },
      "outputs": [],
      "source": []
    }
  ],
  "metadata": {
    "colab": {
      "provenance": []
    },
    "kernelspec": {
      "display_name": "Python 3",
      "name": "python3"
    },
    "language_info": {
      "name": "python"
    }
  },
  "nbformat": 4,
  "nbformat_minor": 5
}

{
  "cells": [
    {
      "cell_type": "code",
      "execution_count": 1,
      "id": "d4613908",
      "metadata": {
        "id": "d4613908",
        "outputId": "50dc0a16-3bdc-4ac1-9851-c84b51c1e201",
        "colab": {
          "base_uri": "https://localhost:8080/"
        }
      },
      "outputs": [
        {
          "output_type": "stream",
          "name": "stdout",
          "text": [
            "hola\n"
          ]
        }
      ],
      "source": [
        "print('hola')"
      ]
    },
    {
      "cell_type": "code",
      "source": [],
      "metadata": {
        "id": "GJksUSaUsYr4"
      },
      "id": "GJksUSaUsYr4",
      "execution_count": null,
      "outputs": []
    }
  ],
  "metadata": {
    "language_info": {
      "name": "python"
    },
    "colab": {
      "provenance": []
    },
    "kernelspec": {
      "name": "python3",
      "display_name": "Python 3"
    }
  },
  "nbformat": 4,
  "nbformat_minor": 5
}
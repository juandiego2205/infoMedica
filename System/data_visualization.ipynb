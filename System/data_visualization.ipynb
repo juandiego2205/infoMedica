{
  "cells": [
    {
      "cell_type": "code",
      "execution_count": 1,
      "id": "5cccc405",
      "metadata": {},
      "outputs": [],
      "source": [
        "! pip install pandas -qq\n",
        "! pip install numpy -qq\n",
        "! pip install matplotlib -qq\n",
        "! pip install hl7 -qq\n"
      ]
    },
    {
      "cell_type": "code",
      "execution_count": 1,
      "id": "GJksUSaUsYr4",
      "metadata": {
        "id": "GJksUSaUsYr4"
      },
      "outputs": [],
      "source": [
        "import pandas as pd\n",
        "import numpy as np\n",
        "import matplotlib.pyplot as plt     "
      ]
    },
    {
      "cell_type": "code",
      "execution_count": 4,
      "id": "22b6a238",
      "metadata": {},
      "outputs": [
        {
          "name": "stdout",
          "output_type": "stream",
          "text": [
            "Columnas JSON:\n",
            "['date', 'device', 'model', 'serial', 'responsible', 'profession', 'ips', 'id', 'Pname', 'Plastname', 'gender', 'age', 'test', 'physician', 'specialty', 'admission', 'dx', 'Comorbilidades']\n",
            "\n",
            "Columnas CSV:\n",
            "['date', 'device', 'model', 'serial', 'responsible', 'profession', 'ips', 'id', 'name', 'lastname', 'gender', 'age', 'test_tp', 'test_ptt', 'test_fib', 'physician', 'specialty', 'admission', 'dx_ppal', 'dx2', 'dx3', 'dx4', 'dx5']\n"
          ]
        }
      ],
      "source": [
        "data_json = pd.read_json('../Medical Files/paciente1.json')\n",
        "data_json.columns = data_json.columns.str.strip()\n",
        "data_csv = pd.read_csv('../Medical Files/paciente2.csv',delimiter=';')\n",
        "data_csv.columns = data_csv.columns.str.strip()\n",
        "data_json.head()\n",
        "data_csv.head()\n",
        "print(\"Columnas JSON:\")\n",
        "print(data_json.columns.tolist())\n",
        "\n",
        "print(\"\\nColumnas CSV:\")\n",
        "print(data_csv.columns.tolist())\n",
        "#print(data_json.columns)\n",
        "\n",
        "#print(data_json.info())\n",
        "#print(data_json['age'])"
      ]
    },
    {
      "cell_type": "code",
      "execution_count": 5,
      "id": "86290626",
      "metadata": {},
      "outputs": [
        {
          "name": "stdout",
          "output_type": "stream",
          "text": [
            "Contenido completo del JSON:\n",
            "                     date      device   model         serial  \\\n",
            "0 1976-06-01 18:37:51.910  Cobas 8000  RC8000  RC2587SRL2020   \n",
            "\n",
            "                     responsible    profession                   ips  \\\n",
            "0  Maria Antonieta de las Nieves  Bacterióloga  Clínica Siempre Viva   \n",
            "\n",
            "           id        Pname    Plastname     gender  age  \\\n",
            "0  1234567890  Pedro Pablo  Pérez Perea  Masculino   23   \n",
            "\n",
            "                                  test         physician  specialty  \\\n",
            "0  {'HDL': 70, 'LDL': 50, 'TRIG': 110}  Dr. Jose Obdulio  Nutrición   \n",
            "\n",
            "     admission                   dx                     Comorbilidades  \n",
            "0  Ambulatorio  Esguince de rodilla  [Diabete Tipo I, Hipertiroidismo]  \n",
            "\n",
            "Contenido completo del CSV:\n",
            "           date        device    model        serial            responsible  \\\n",
            "0  202502020035  HITACHI 9000   RH9000  H758RFG8965S  Roberto Gómez Bolaños   \n",
            "\n",
            "      profession           ips          id         name lastname      gender  \\\n",
            "0   Bacteriólogo   Clínica IPS  1122334455  Juan Camilo  Machado   Masculino   \n",
            "\n",
            "   age test_tp test_ptt  test_fib                 physician specialty  \\\n",
            "0   45    10,2     30,4       251   Dra. Margarita Valencia  Cirujana   \n",
            "\n",
            "         admission      dx_ppal  dx2  dx3  dx4  dx5  \n",
            "0  Hospitalización  Apendicitis  NaN  NaN  NaN  NaN  \n"
          ]
        }
      ],
      "source": [
        "# Mostrar todas las columnas y filas\n",
        "pd.set_option('display.max_columns', None)\n",
        "pd.set_option('display.max_rows', None)\n",
        "\n",
        "# Evita el truncamiento de anchos\n",
        "pd.set_option('display.max_colwidth', None)\n",
        "\n",
        "# Mostrar el DataFrame completo\n",
        "print(\"Contenido completo del JSON:\")\n",
        "print(data_json)\n",
        "\n",
        "print(\"\\nContenido completo del CSV:\")\n",
        "print(data_csv)"
      ]
    },
    {
      "cell_type": "code",
      "execution_count": 53,
      "id": "3e6490c4",
      "metadata": {},
      "outputs": [
        {
          "name": "stdout",
          "output_type": "stream",
          "text": [
            "['1H|\\\\^&|||D10^01^3.00|||||||||20250129133654\\n', '07\\n', '2P|1\\n', '3F\\n', '3O|1|70065456|1311159-02-015-20240119-01|^^^43||||||||Juan Andrés|Sepúlveda Ramos||||||||||||||M\\n', 'EA\\n', '4R|1|^^^A1b^AREA|3.7|||||||||20250129133654\\n', '62\\n', '5R|2|^^^A1b^TIME|0.25|||||||||20250129133654\\n', 'A7\\n', '6R|3|^^^F^AREA|9.8|||||||||20250129133654\\n', 'DF\\n', '7R|4|^^^F^TIME|0.56|||||||||20250129133654\\n', '21\\n', '0R|5|^^^A1c^AREA|5.9|||||||||20250129133654\\n', '67\\n', '1R|6|^^^A1c^TIME|0.88|||||||||20250129133654\\n', 'B1\\n', '2R|7|^^^P3^AREA|4.1|||||||||20250129133654\\n', '10\\n', '3R|8|^^^P3^TIME|1.37|||||||||20250129133654\\n', '5E\\n', '4R|9|^^^A0^AREA|53.6|||||||||20250129133654\\n', '3B\\n', '5R|10|^^^A0^TIME|1.45|||||||||20250129133654\\n', '76\\n', '6R|11|^^^S-Window^AREA|26.2|||||||||20250129133654\\n', 'E9\\n', '7R|12|^^^S-Window^TIME|1.65|||||||||20250129133654\\n', '03\\n', '0R|13|^^^TOTAL^AREA|2587336|||||||||20250129133654\\n', '1B\\n', '1L|1|N\\n', '04\\n']\n",
            "{'nombre': 'Juan Andrés', 'apellido': 'Sepúlveda Ramos', 'ID': '70065456', 'fecha': '2025-01-29', 'MEDICIONES': {'A1b': '3.7', 'F': '9.8', 'A1c': '5.9', 'P3': '4.1', 'A0': '53.6', 'S-Window': '26.2', 'TOTAL': '2587336'}, 'TIEMPOS': {'A1b': '0.25', 'F': '0.56', 'A1c': '0.88', 'P3': '1.37', 'A0': '1.45', 'S-Window': '1.65'}}\n"
          ]
        }
      ],
      "source": [
        "with open('../Medical Files/paciente3.txt', encoding='utf-8') as file:\n",
        "    content = file.readlines()\n",
        "\n",
        "areas, tiempos = {}, {}\n",
        "nombre, apellido, paciente_id, fecha = \"\", \"\", \"\", \"\"\n",
        "\n",
        "for line in content:\n",
        "    parts = line.strip().split('|')\n",
        "\n",
        "    if '3O' in line:\n",
        "        nombre, apellido = parts[12].strip(), parts[13].strip()\n",
        "        paciente_id = parts[2].strip()\n",
        "\n",
        "    elif 'AREA' in line:\n",
        "        codigo = parts[2].split('^')[3].strip()\n",
        "        areas[codigo] = parts[3].strip()\n",
        "        fecha = parts[12].strip()\n",
        "\n",
        "    elif 'TIME' in line:\n",
        "        codigo = parts[2].split('^')[3].strip()\n",
        "        tiempos[codigo] = parts[3].strip()\n",
        "\n",
        "if paciente_id:\n",
        "    fecha_formateada = f\"{fecha[:4]}-{fecha[4:6]}-{fecha[6:8]}\"\n",
        "    data_paciente3 = {\n",
        "        \"nombre\": nombre,\n",
        "        \"apellido\": apellido,\n",
        "        \"ID\": paciente_id,\n",
        "        \"fecha\": fecha_formateada,\n",
        "        \"MEDICIONES\": areas,\n",
        "        \"TIEMPOS\": tiempos\n",
        "    }\n",
        "    print(content)\n",
        "    print(data_paciente3)\n"
      ]
    },
    {
      "cell_type": "code",
      "execution_count": 42,
      "id": "d3492279",
      "metadata": {},
      "outputs": [
        {
          "name": "stdout",
          "output_type": "stream",
          "text": [
            "{\n",
            "    \"nombre\": \"Juan Andrés\",\n",
            "    \"apellido\": \"Sepúlveda Ramos\",\n",
            "    \"ID\": \"70065456\",\n",
            "    \"fecha\": \"2025-01-29\",\n",
            "    \"MEDICIONES\": {\n",
            "        \"A1b\": \"3.7\",\n",
            "        \"F\": \"9.8\",\n",
            "        \"A1c\": \"5.9\",\n",
            "        \"P3\": \"4.1\",\n",
            "        \"A0\": \"53.6\",\n",
            "        \"S-Window\": \"26.2\",\n",
            "        \"TOTAL\": \"2587336\"\n",
            "    },\n",
            "    \"TIEMPOS\": {\n",
            "        \"A1b\": \"0.25\",\n",
            "        \"F\": \"0.56\",\n",
            "        \"A1c\": \"0.88\",\n",
            "        \"P3\": \"1.37\",\n",
            "        \"A0\": \"1.45\",\n",
            "        \"S-Window\": \"1.65\"\n",
            "    }\n",
            "}\n"
          ]
        }
      ],
      "source": [
        "import json\n",
        "print(json.dumps(data_paciente3, indent=4, ensure_ascii=False))"
      ]
    },
    {
      "cell_type": "code",
      "execution_count": 43,
      "id": "3ced834e",
      "metadata": {},
      "outputs": [
        {
          "name": "stdout",
          "output_type": "stream",
          "text": [
            "{\n",
            "    \"date\": \"202502271910\",\n",
            "    \"device\": \"Cobas 8000\",\n",
            "    \"model\": \"RC8000\",\n",
            "    \"serial\": \"RC2587SRL2020\",\n",
            "    \"responsible\": \"Maria Antonieta de las Nieves\",\n",
            "    \"profession\": \"Bacterióloga\",\n",
            "    \"ips\": \"Clínica Siempre Viva\",\n",
            "    \"Pname\": \"Pedro Pablo\",\n",
            "    \"Plastname\": \"Pérez Perea\",\n",
            "    \"gender\": \"Masculino\",\n",
            "    \"age\": 23,\n",
            "    \"test\": {\n",
            "        \"HDL\": 70,\n",
            "        \"LDL\": 50,\n",
            "        \"TRIG\": 110\n",
            "    },\n",
            "    \"physician\": \"Dr. Jose Obdulio\",\n",
            "    \"specialty\": \"Nutrición\",\n",
            "    \"admission\": \"Ambulatorio\",\n",
            "    \"dx\": \"Esguince de rodilla\",\n",
            "    \"Comorbilidades\": [\n",
            "        \"Diabete Tipo I\",\n",
            "        \"Hipertiroidismo\"\n",
            "    ],\n",
            "    \"ID\": \"1234567890\"\n",
            "}\n"
          ]
        }
      ],
      "source": [
        "# Abrimos el archivo y cargamos la lista de pacientes\n",
        "with open('../Medical Files/paciente1.json', 'r', encoding='utf-8') as archivo:\n",
        "    lista_pacientes = json.load(archivo)  # Esto es una lista de diccionarios\n",
        "\n",
        "# Seleccionamos el primer paciente (por ejemplo)\n",
        "data_paciente1 = lista_pacientes[0]\n",
        "\n",
        "# Cambiamos la clave 'id' por 'ID'\n",
        "if 'id' in data_paciente1:\n",
        "    data_paciente1['ID'] = data_paciente1.pop('id')\n",
        "\n",
        "# Ahora paciente es un diccionario sin estar en una lista\n",
        "print(json.dumps(data_paciente1, indent=4, ensure_ascii=False))\n"
      ]
    },
    {
      "cell_type": "code",
      "execution_count": 48,
      "id": "7212ba1c",
      "metadata": {},
      "outputs": [
        {
          "name": "stdout",
          "output_type": "stream",
          "text": [
            "{\n",
            "    \"date\": 202502020035,\n",
            "    \"device \": \"HITACHI 9000\",\n",
            "    \"model \": \" RH9000\",\n",
            "    \"serial \": \"H758RFG8965S\",\n",
            "    \"responsible \": \"Roberto Gómez Bolaños\",\n",
            "    \"profession \": \" Bacteriólogo\",\n",
            "    \"ips \": \" Clínica IPS\",\n",
            "    \"name \": \"Juan Camilo\",\n",
            "    \"lastname \": \"Machado\",\n",
            "    \"gender \": \" Masculino\",\n",
            "    \"age \": 45,\n",
            "    \"test_tp\": \"10,2\",\n",
            "    \"test_ptt\": \"30,4\",\n",
            "    \"test_fib\": 251,\n",
            "    \"physician \": \" Dra. Margarita Valencia\",\n",
            "    \" specialty \": \"Cirujana\",\n",
            "    \"admission \": \"Hospitalización\",\n",
            "    \"dx_ppal\": \"Apendicitis\",\n",
            "    \"dx2\": NaN,\n",
            "    \"dx3\": NaN,\n",
            "    \"dx4\": NaN,\n",
            "    \"dx5\": NaN,\n",
            "    \"ID\": 1122334455\n",
            "}\n"
          ]
        }
      ],
      "source": [
        "# Cargar el CSV como DataFrame\n",
        "data_paciente2 = pd.read_csv('../Medical Files/paciente2.csv', delimiter=';')  # cambia el delimitador si es necesario\n",
        "\n",
        "# Convertir el DataFrame a lista de diccionarios (cada fila como dict)\n",
        "lista_dicts = data_paciente2.to_dict(orient='records')\n",
        "data_paciente2=lista_dicts[0]\n",
        "data_paciente2_key = {key.strip(): value for key, value in data_paciente2.items()}\n",
        "# Cambiamos la clave 'id' por 'ID'\n",
        "if 'id' in data_paciente2_key:\n",
        "    data_paciente2['ID'] = data_paciente2.pop('id ')\n",
        "\n",
        "# Si quieres ver el primero por ejemplo:\n",
        "print(json.dumps(data_paciente2, indent=4, ensure_ascii=False))"
      ]
    }
  ],
  "metadata": {
    "colab": {
      "provenance": []
    },
    "kernelspec": {
      "display_name": "Python 3",
      "language": "python",
      "name": "python3"
    },
    "language_info": {
      "codemirror_mode": {
        "name": "ipython",
        "version": 3
      },
      "file_extension": ".py",
      "mimetype": "text/x-python",
      "name": "python",
      "nbconvert_exporter": "python",
      "pygments_lexer": "ipython3",
      "version": "3.12.1"
    }
  },
  "nbformat": 4,
  "nbformat_minor": 5
}
